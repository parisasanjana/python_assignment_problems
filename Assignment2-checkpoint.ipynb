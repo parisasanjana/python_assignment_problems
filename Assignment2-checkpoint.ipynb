{
 "cells": [
  {
   "cell_type": "markdown",
   "id": "39ee72a3-b789-4af4-84d4-472f696a3400",
   "metadata": {},
   "source": [
    "## 1. Write a program that swaps the values of two variables.\n"
   ]
  },
  {
   "cell_type": "code",
   "execution_count": 16,
   "id": "43f03503-4f27-4208-98cd-aa7137d07455",
   "metadata": {},
   "outputs": [
    {
     "name": "stdin",
     "output_type": "stream",
     "text": [
      "Enter the value of a 20\n",
      "Enter the value of b 40\n"
     ]
    }
   ],
   "source": [
    "a=int(input(\"Enter the value of a\"))\n",
    "b=int (input(\"Enter the value of b\"))"
   ]
  },
  {
   "cell_type": "code",
   "execution_count": 18,
   "id": "a9598023-1920-4f2b-b9f0-fc22a7060bac",
   "metadata": {},
   "outputs": [
    {
     "name": "stdout",
     "output_type": "stream",
     "text": [
      "a: 40 b: 20\n"
     ]
    }
   ],
   "source": [
    "c=a\n",
    "a=b\n",
    "b=c\n",
    "print(\"a:\", a, \"b:\",b)"
   ]
  },
  {
   "cell_type": "markdown",
   "id": "5237058b-2b5a-4ea9-adc7-74d57f79d664",
   "metadata": {},
   "source": [
    "## 2. Write a program that calculates the area of a rectangle given its length and width.\n"
   ]
  },
  {
   "cell_type": "code",
   "execution_count": 7,
   "id": "77249478-6d9c-490f-b42a-af197ce77de6",
   "metadata": {},
   "outputs": [
    {
     "name": "stdin",
     "output_type": "stream",
     "text": [
      "Enter a value 12.5\n"
     ]
    }
   ],
   "source": [
    "l = float(input(\"Enter a value\"))"
   ]
  },
  {
   "cell_type": "code",
   "execution_count": 9,
   "id": "9ecb53a9-46c9-4b34-94cd-627867428ccf",
   "metadata": {},
   "outputs": [
    {
     "name": "stdin",
     "output_type": "stream",
     "text": [
      "enter a value 2.5\n"
     ]
    }
   ],
   "source": [
    "w= float (input(\"enter a value\"))"
   ]
  },
  {
   "cell_type": "code",
   "execution_count": 11,
   "id": "07f4e885-0d93-4b57-a047-d1c64e851f3f",
   "metadata": {},
   "outputs": [
    {
     "name": "stdout",
     "output_type": "stream",
     "text": [
      "area: 31.25\n"
     ]
    }
   ],
   "source": [
    "a=l*w\n",
    "print (\"area:\",a)"
   ]
  },
  {
   "cell_type": "markdown",
   "id": "d98cd613-7052-4f32-9a56-76bf1f52ba12",
   "metadata": {},
   "source": [
    "## 3. Write a program that converts temperature from Fahrenheit to Celsius."
   ]
  },
  {
   "cell_type": "code",
   "execution_count": 15,
   "id": "4b4b2a7d-16f7-447f-8f00-4c6ca4997dd5",
   "metadata": {},
   "outputs": [
    {
     "name": "stdin",
     "output_type": "stream",
     "text": [
      "Enter a value 12.5\n"
     ]
    }
   ],
   "source": [
    "f=float(input(\"Enter a value\"))"
   ]
  },
  {
   "cell_type": "code",
   "execution_count": 17,
   "id": "e8a6e067-3a37-48a8-8635-5886d7f83611",
   "metadata": {},
   "outputs": [
    {
     "name": "stdout",
     "output_type": "stream",
     "text": [
      "Celsius: -10.833333333333334\n"
     ]
    }
   ],
   "source": [
    "c=(f-32)*5/9\n",
    "print (\"Celsius:\",c)"
   ]
  },
  {
   "cell_type": "markdown",
   "id": "437846c4-0a80-4757-89e8-018afa524141",
   "metadata": {},
   "source": [
    "## 4. Write a program that calculates the volume of a sphere given its radius."
   ]
  },
  {
   "cell_type": "code",
   "execution_count": 20,
   "id": "b644fe3c-d7a0-41a2-bcac-bd9974fc0a91",
   "metadata": {},
   "outputs": [],
   "source": [
    "import math\n",
    "PI=math.pi"
   ]
  },
  {
   "cell_type": "code",
   "execution_count": 23,
   "id": "6a6ab157-0304-4899-8d4f-b4f9d46bb26a",
   "metadata": {},
   "outputs": [
    {
     "data": {
      "text/plain": [
       "3.141592653589793"
      ]
     },
     "execution_count": 23,
     "metadata": {},
     "output_type": "execute_result"
    }
   ],
   "source": [
    "PI"
   ]
  },
  {
   "cell_type": "code",
   "execution_count": 25,
   "id": "91e67fa5-c135-4d62-beeb-f8ecb29d6c98",
   "metadata": {},
   "outputs": [
    {
     "name": "stdin",
     "output_type": "stream",
     "text": [
      "Enter a value: 11.87\n"
     ]
    }
   ],
   "source": [
    "r=float(input(\"Enter a value:\"))"
   ]
  },
  {
   "cell_type": "code",
   "execution_count": 27,
   "id": "446722b3-0d5c-41ca-8cd2-d74eebf9409b",
   "metadata": {},
   "outputs": [
    {
     "name": "stdout",
     "output_type": "stream",
     "text": [
      "volumn : 7005.52627315859\n"
     ]
    }
   ],
   "source": [
    "v=(4/3)*PI*r**3\n",
    "print (\"volumn :\",v)"
   ]
  },
  {
   "cell_type": "markdown",
   "id": "edc1ef4c-35e9-4fe5-a054-6f38090d8d92",
   "metadata": {},
   "source": [
    "## 5. Write a program that finds the average of three numbers."
   ]
  },
  {
   "cell_type": "code",
   "execution_count": 31,
   "id": "07c0cf62-371a-497b-8fd2-5813d193100e",
   "metadata": {},
   "outputs": [
    {
     "name": "stdin",
     "output_type": "stream",
     "text": [
      "Enter the value of a 17\n",
      "Enter the value of b 5\n",
      "Enter the value of c 80\n"
     ]
    }
   ],
   "source": [
    "a=int (input (\"Enter the value of a\"))\n",
    "b=int (input (\"Enter the value of b\"))\n",
    "c=int (input (\"Enter the value of c\"))\n",
    "\n"
   ]
  },
  {
   "cell_type": "code",
   "execution_count": 45,
   "id": "a89004c4-d5f2-4bc0-9754-cdcd8d935080",
   "metadata": {},
   "outputs": [
    {
     "name": "stdout",
     "output_type": "stream",
     "text": [
      "Avg: 34.0\n"
     ]
    }
   ],
   "source": [
    "avg=(a+b+c)/3\n",
    "print (\"Avg:\",avg)\n"
   ]
  },
  {
   "cell_type": "markdown",
   "id": "960b7866-04cf-409e-8269-bc86a5db6765",
   "metadata": {},
   "source": [
    "## 6. Write a program that determines if a number is even or odd."
   ]
  },
  {
   "cell_type": "code",
   "execution_count": 11,
   "id": "94b2f518-b183-4dfe-b650-477f9e239719",
   "metadata": {},
   "outputs": [
    {
     "name": "stdin",
     "output_type": "stream",
     "text": [
      "Enter a value 100\n"
     ]
    }
   ],
   "source": [
    "p =int (input (\"Enter a value\"))"
   ]
  },
  {
   "cell_type": "code",
   "execution_count": 13,
   "id": "911062a7-6f36-4201-9328-1812af0a2f0d",
   "metadata": {},
   "outputs": [
    {
     "name": "stdout",
     "output_type": "stream",
     "text": [
      "100 even\n"
     ]
    }
   ],
   "source": [
    "if (p%2==0):\n",
    "    print(p,\"even\")\n",
    "else:\n",
    "    print(p,\"odd\")"
   ]
  },
  {
   "cell_type": "markdown",
   "id": "01a2fd35-2561-4ba5-8b0a-48bd63fd4d9f",
   "metadata": {},
   "source": [
    "## 7. Write a program that finds the maximum of three numbers."
   ]
  },
  {
   "cell_type": "code",
   "execution_count": 20,
   "id": "87c881ff-4795-4e96-8615-78a1c42d1c1a",
   "metadata": {},
   "outputs": [
    {
     "name": "stdin",
     "output_type": "stream",
     "text": [
      "Enter the number n1 20\n",
      "Enter the number n2 10\n",
      "Enter the number n3 30\n"
     ]
    }
   ],
   "source": [
    "n1=int(input(\"Enter the number n1\"))\n",
    "n2=int(input(\"Enter the number n2\"))\n",
    "n3=int(input(\"Enter the number n3\"))\n",
    "       "
   ]
  },
  {
   "cell_type": "code",
   "execution_count": 24,
   "id": "6dcf32f7-8c89-4c49-87d7-27f46748b791",
   "metadata": {},
   "outputs": [
    {
     "name": "stdout",
     "output_type": "stream",
     "text": [
      "30 maximum number 20 10 30\n"
     ]
    }
   ],
   "source": [
    "max=n1\n",
    "if(max<n2):\n",
    "    max=n2\n",
    "elif (max<n3):\n",
    "    max=n3\n",
    "print(max,\"maximum number\",n1,n2,n3)"
   ]
  },
  {
   "cell_type": "markdown",
   "id": "9e807526-403d-4a17-a694-0ec28cf6ec8a",
   "metadata": {},
   "source": [
    "## 8. Write a program that determines if a year is a leap year or not."
   ]
  },
  {
   "cell_type": "code",
   "execution_count": 29,
   "id": "44c6c64c-5882-45ac-a243-af73b323a3c2",
   "metadata": {},
   "outputs": [
    {
     "name": "stdin",
     "output_type": "stream",
     "text": [
      "Enter a year 2019\n"
     ]
    }
   ],
   "source": [
    "y=int(input(\"Enter a year\"))\n",
    "      "
   ]
  },
  {
   "cell_type": "code",
   "execution_count": 31,
   "id": "e6a6ea9b-3af9-499f-aa55-b4ea86f07769",
   "metadata": {},
   "outputs": [
    {
     "name": "stdout",
     "output_type": "stream",
     "text": [
      "2019 Is not Leap year\n"
     ]
    }
   ],
   "source": [
    "if(y%4==0):\n",
    "    print(y,\"Leap year\")\n",
    "else:\n",
    "    print(y,\"Is not Leap year\")"
   ]
  },
  {
   "cell_type": "markdown",
   "id": "86f12383-f872-491a-ba97-4c9a21308dcb",
   "metadata": {},
   "source": [
    "## 9. Write a program that determines if a number is positive, negative, or zero."
   ]
  },
  {
   "cell_type": "code",
   "execution_count": 5,
   "id": "c7a0bf93-9ba0-4d28-a3ab-da79a7c15cfd",
   "metadata": {},
   "outputs": [
    {
     "name": "stdin",
     "output_type": "stream",
     "text": [
      "Enter a number 188\n"
     ]
    }
   ],
   "source": [
    "p=int(input(\"Enter a number\"))\n",
    "\n"
   ]
  },
  {
   "cell_type": "code",
   "execution_count": 9,
   "id": "06a5129a-6499-4a94-907c-f70f78a3e7fa",
   "metadata": {},
   "outputs": [
    {
     "name": "stdout",
     "output_type": "stream",
     "text": [
      "188 positive\n"
     ]
    }
   ],
   "source": [
    "if(p>0):\n",
    "    print(p,\"positive\")\n",
    "elif (p<0) :\n",
    "    print(p,\"negative\")\n",
    "elif(p==0) :\n",
    "    print(p, \"zero\")"
   ]
  },
  {
   "cell_type": "markdown",
   "id": "9adba048-0627-4ad8-a774-862d4cc46f87",
   "metadata": {},
   "source": [
    "## 10. Write a program that calculates the grade based on a given percentage.\n"
   ]
  },
  {
   "cell_type": "code",
   "execution_count": 14,
   "id": "6e214912-6d0e-4072-9bc2-8ae6b882c2ff",
   "metadata": {},
   "outputs": [
    {
     "name": "stdin",
     "output_type": "stream",
     "text": [
      "Enter ban value 95\n",
      "Enter eng value 83\n",
      "Enter phy value 50\n",
      "Enter bio value 40\n"
     ]
    }
   ],
   "source": [
    "ban=float(input(\"Enter ban value\"))\n",
    "eng=float(input(\"Enter eng value\"))\n",
    "phy=float(input(\"Enter phy value\"))\n",
    "bio=float(input(\"Enter bio value\"))"
   ]
  },
  {
   "cell_type": "code",
   "execution_count": 19,
   "id": "bee9caf2-ddbd-4c19-8b0f-60f878a1328b",
   "metadata": {},
   "outputs": [
    {
     "name": "stdout",
     "output_type": "stream",
     "text": [
      "percentage 67.0\n"
     ]
    }
   ],
   "source": [
    "per=(95+83+50+40)/4\n",
    "print(\"percentage\",per)"
   ]
  },
  {
   "cell_type": "code",
   "execution_count": 21,
   "id": "e0a0746e-6a7c-4091-acdf-cfc85e7363f1",
   "metadata": {},
   "outputs": [
    {
     "name": "stdout",
     "output_type": "stream",
     "text": [
      "67.0 Grade B\n"
     ]
    }
   ],
   "source": [
    "if(per>=90):\n",
    "    print(per,\"Grade A+\")\n",
    "elif(per>=80):\n",
    "    print(per,\"Grade A\")\n",
    "elif(per>=60):\n",
    "    print(per,\"Grade B\")\n",
    "elif(per>=50):\n",
    "    print(per,\"Grade C\")\n",
    "else:\n",
    "    print(per,\"Fail\")"
   ]
  },
  {
   "cell_type": "markdown",
   "id": "c5fc7a37-2848-4c7b-9e21-a6f9fec34503",
   "metadata": {},
   "source": [
    "## 11. Write a program that prints the first `n` natural numbers."
   ]
  },
  {
   "cell_type": "code",
   "execution_count": 26,
   "id": "9f526ce1-514e-46eb-ba53-67526c8ac66b",
   "metadata": {},
   "outputs": [
    {
     "name": "stdin",
     "output_type": "stream",
     "text": [
      "Enter the value of p: 9\n"
     ]
    }
   ],
   "source": [
    "p=int(input(\"Enter the value of p:\"))"
   ]
  },
  {
   "cell_type": "code",
   "execution_count": 32,
   "id": "d0fc870a-13de-45e8-89ea-e796ea3d8f6a",
   "metadata": {},
   "outputs": [
    {
     "name": "stdout",
     "output_type": "stream",
     "text": [
      "1\n",
      "2\n",
      "3\n",
      "4\n",
      "5\n",
      "6\n",
      "7\n",
      "8\n",
      "9\n",
      "10\n"
     ]
    }
   ],
   "source": [
    "for i in range (10):\n",
    "    print(i+1)\n"
   ]
  },
  {
   "cell_type": "markdown",
   "id": "d85d8a61-9eae-407c-90ca-057474ea0cd1",
   "metadata": {},
   "source": [
    "## 12. Write a program that calculates the factorial of a number."
   ]
  },
  {
   "cell_type": "code",
   "execution_count": 52,
   "id": "eb2fb7e6-c6bd-463e-af0d-e729e8ba26fb",
   "metadata": {},
   "outputs": [
    {
     "name": "stdin",
     "output_type": "stream",
     "text": [
      "Enter a value: 4\n"
     ]
    }
   ],
   "source": [
    "n=int(input(\"Enter a value:\"))"
   ]
  },
  {
   "cell_type": "code",
   "execution_count": 54,
   "id": "46e1c479-614c-45a6-9a73-73e795543170",
   "metadata": {},
   "outputs": [
    {
     "name": "stdout",
     "output_type": "stream",
     "text": [
      "24 Factorial\n"
     ]
    }
   ],
   "source": [
    "fac=1\n",
    "while(n!=0):\n",
    "    fac=fac*n\n",
    "    n=n-1\n",
    "print(fac,\"Factorial\")\n",
    "    "
   ]
  },
  {
   "cell_type": "markdown",
   "id": "2f00284a-f6d2-4646-9c7b-2ce2608dc049",
   "metadata": {},
   "source": [
    "## 13. Write a program that generates a Fibonacci sequence of length `n`.\n"
   ]
  },
  {
   "cell_type": "code",
   "execution_count": 56,
   "id": "f4634b9d-0226-45b8-9adf-a78d2863f4f6",
   "metadata": {},
   "outputs": [
    {
     "name": "stdin",
     "output_type": "stream",
     "text": [
      "Enter the value 5\n"
     ]
    }
   ],
   "source": [
    "f_num=int(input(\"Enter the value\"))"
   ]
  },
  {
   "cell_type": "code",
   "execution_count": 60,
   "id": "178f1dd0-b192-41ff-abbe-f1582c90d33b",
   "metadata": {},
   "outputs": [
    {
     "name": "stdout",
     "output_type": "stream",
     "text": [
      "0 1 1 2 3 "
     ]
    }
   ],
   "source": [
    "a=0\n",
    "b=1\n",
    "for i in range(f_num):\n",
    "    print(a,end=\" \")\n",
    "    c=a+b\n",
    "    a=b\n",
    "    b=c\n",
    "\n",
    "    "
   ]
  },
  {
   "cell_type": "markdown",
   "id": "bc2bc58d-8f3c-4e1c-8ea2-8e5900c16c58",
   "metadata": {},
   "source": [
    "## 14. Write a program that checks if a given number is prime or not.\n"
   ]
  },
  {
   "cell_type": "code",
   "execution_count": 63,
   "id": "10944aa9-b080-432a-803e-ce59d7871155",
   "metadata": {},
   "outputs": [
    {
     "name": "stdin",
     "output_type": "stream",
     "text": [
      "Enter a value 87\n"
     ]
    }
   ],
   "source": [
    "p=int(input(\"Enter a value\"))\n"
   ]
  },
  {
   "cell_type": "code",
   "execution_count": 69,
   "id": "4d5e4440-c88b-41b4-aaa8-a0e68adde0be",
   "metadata": {},
   "outputs": [
    {
     "name": "stdout",
     "output_type": "stream",
     "text": [
      "87 not prime\n"
     ]
    }
   ],
   "source": [
    "for i in range(2,p):\n",
    "    if(p%i==0):\n",
    "        print(p,\"not prime\")\n",
    "        break\n",
    "else:\n",
    "        print(p,\"Prime\")\n",
    "        "
   ]
  },
  {
   "cell_type": "markdown",
   "id": "71d70e98-6370-429e-92f7-f77ba4009d5e",
   "metadata": {},
   "source": [
    "## 15. Write a program that prints the multiplication table of a given number"
   ]
  },
  {
   "cell_type": "code",
   "execution_count": 72,
   "id": "67f7fcc2-41c4-492b-ab1a-58e0876aff12",
   "metadata": {},
   "outputs": [
    {
     "name": "stdin",
     "output_type": "stream",
     "text": [
      "Enter a value 9\n"
     ]
    }
   ],
   "source": [
    "n=int(input(\"Enter a value\"))\n"
   ]
  },
  {
   "cell_type": "code",
   "execution_count": 82,
   "id": "bc7d1903-01a1-4991-9255-26cab43739e7",
   "metadata": {},
   "outputs": [
    {
     "name": "stdout",
     "output_type": "stream",
     "text": [
      "9 X 1 = 9\n",
      "9 X 2 = 18\n",
      "9 X 3 = 27\n",
      "9 X 4 = 36\n",
      "9 X 5 = 45\n",
      "9 X 6 = 54\n",
      "9 X 7 = 63\n",
      "9 X 8 = 72\n",
      "9 X 9 = 81\n",
      "9 X 10 = 90\n"
     ]
    }
   ],
   "source": [
    "for i in range(10):\n",
    "    mul=(i+1)*n\n",
    "    print (n, \"X\",i+1,\"=\",mul)"
   ]
  },
  {
   "cell_type": "markdown",
   "id": "5c086660-89ec-43cf-bf6f-6be11d48f0d0",
   "metadata": {},
   "source": [
    "## 16. Write a program that finds the sum of all even numbers between 1 and `n`"
   ]
  },
  {
   "cell_type": "code",
   "execution_count": 1,
   "id": "c747e923-0051-447d-84af-e5f16cf536fd",
   "metadata": {},
   "outputs": [
    {
     "name": "stdin",
     "output_type": "stream",
     "text": [
      "Enter number 7\n"
     ]
    }
   ],
   "source": [
    "n=int(input(\"Enter number\"))\n"
   ]
  },
  {
   "cell_type": "code",
   "execution_count": 11,
   "id": "191557bb-59f3-444f-ba2d-1281a13a599b",
   "metadata": {},
   "outputs": [
    {
     "name": "stdout",
     "output_type": "stream",
     "text": [
      "2 4 6 \n",
      "sum all even numbers: 12\n"
     ]
    }
   ],
   "source": [
    "sum=0\n",
    "for i in range (1,n):\n",
    "    if(i%2==0):\n",
    "        print(i,end =\" \")\n",
    "        sum=sum+i\n",
    "print(\"\\nsum all even numbers:\",sum)\n",
    "        "
   ]
  },
  {
   "cell_type": "markdown",
   "id": "ed5cc90c-94c7-459b-9d4c-f464ec925113",
   "metadata": {},
   "source": [
    "## 17. Write a program that reverses a given number.\n"
   ]
  },
  {
   "cell_type": "code",
   "execution_count": 22,
   "id": "8d318410-b0fc-4c6c-98c6-75b2804f3cd5",
   "metadata": {},
   "outputs": [
    {
     "name": "stdin",
     "output_type": "stream",
     "text": [
      "Enter the number 1143\n"
     ]
    }
   ],
   "source": [
    "n=int(input(\"Enter the number\"))"
   ]
  },
  {
   "cell_type": "code",
   "execution_count": 24,
   "id": "b3a9630c-f335-4b01-beda-b79e1d775305",
   "metadata": {},
   "outputs": [
    {
     "name": "stdout",
     "output_type": "stream",
     "text": [
      "Reverse number: 3411\n"
     ]
    }
   ],
   "source": [
    "rev=0\n",
    "while(n>0):\n",
    "    rem=n%10\n",
    "    rev=rev*10+rem\n",
    "    n=n//10\n",
    "print (\"Reverse number:\", rev)    \n",
    "    \n",
    "    "
   ]
  },
  {
   "cell_type": "markdown",
   "id": "1f311add-9f07-450c-8b24-cb926b24c193",
   "metadata": {},
   "source": [
    "## 18. Write a program that checks if a given string, is a palindrome"
   ]
  },
  {
   "cell_type": "code",
   "execution_count": 47,
   "id": "75600723-6482-4997-bedd-931c394e21bc",
   "metadata": {},
   "outputs": [
    {
     "name": "stdin",
     "output_type": "stream",
     "text": [
      "Enter a string: mom\n"
     ]
    }
   ],
   "source": [
    "n= str (input (\"Enter a string:\"))\n"
   ]
  },
  {
   "cell_type": "code",
   "execution_count": 49,
   "id": "e1dd468b-1a8c-40a4-8de6-be1387ee6b5e",
   "metadata": {},
   "outputs": [
    {
     "name": "stdout",
     "output_type": "stream",
     "text": [
      "mom is a palindrome\n"
     ]
    }
   ],
   "source": [
    "reverse =n [::-1]\n",
    "if(n==reverse):\n",
    "    print(n,\"is a palindrome\")\n",
    "else:\n",
    "    print(n,\"not a palindrome\")"
   ]
  },
  {
   "cell_type": "markdown",
   "id": "abfddaf1-4cba-48cc-810a-ae6c2a17ce8f",
   "metadata": {},
   "source": [
    "## 19. Write a program that generates a random number and allows the user to guess it."
   ]
  },
  {
   "cell_type": "code",
   "execution_count": 135,
   "id": "a59b5883-f415-447d-9b28-34ceb0838e3c",
   "metadata": {},
   "outputs": [
    {
     "name": "stdin",
     "output_type": "stream",
     "text": [
      "Guess a number between 1 and 10:  2\n"
     ]
    },
    {
     "name": "stdout",
     "output_type": "stream",
     "text": [
      "Sorry,try again\n"
     ]
    },
    {
     "name": "stdin",
     "output_type": "stream",
     "text": [
      "Guess a number between 1 and 10:  5\n"
     ]
    },
    {
     "name": "stdout",
     "output_type": "stream",
     "text": [
      "Sorry,try again\n"
     ]
    },
    {
     "name": "stdin",
     "output_type": "stream",
     "text": [
      "Guess a number between 1 and 10:  7\n"
     ]
    },
    {
     "name": "stdout",
     "output_type": "stream",
     "text": [
      "Sorry,try again\n"
     ]
    },
    {
     "name": "stdin",
     "output_type": "stream",
     "text": [
      "Guess a number between 1 and 10:  9\n"
     ]
    },
    {
     "name": "stdout",
     "output_type": "stream",
     "text": [
      "Sorry,try again\n"
     ]
    },
    {
     "name": "stdin",
     "output_type": "stream",
     "text": [
      "Guess a number between 1 and 10:  10\n"
     ]
    },
    {
     "name": "stdout",
     "output_type": "stream",
     "text": [
      "Sorry,try again\n"
     ]
    },
    {
     "name": "stdin",
     "output_type": "stream",
     "text": [
      "Guess a number between 1 and 10:  1\n"
     ]
    },
    {
     "name": "stdout",
     "output_type": "stream",
     "text": [
      "Sorry,try again\n"
     ]
    },
    {
     "name": "stdin",
     "output_type": "stream",
     "text": [
      "Guess a number between 1 and 10:  3\n"
     ]
    },
    {
     "name": "stdout",
     "output_type": "stream",
     "text": [
      "Sorry,try again\n"
     ]
    },
    {
     "name": "stdin",
     "output_type": "stream",
     "text": [
      "Guess a number between 1 and 10:  5\n"
     ]
    },
    {
     "name": "stdout",
     "output_type": "stream",
     "text": [
      "Sorry,try again\n"
     ]
    },
    {
     "name": "stdin",
     "output_type": "stream",
     "text": [
      "Guess a number between 1 and 10:  4\n"
     ]
    },
    {
     "name": "stdout",
     "output_type": "stream",
     "text": [
      "Sorry,try again\n"
     ]
    },
    {
     "name": "stdin",
     "output_type": "stream",
     "text": [
      "Guess a number between 1 and 10:  6\n"
     ]
    },
    {
     "name": "stdout",
     "output_type": "stream",
     "text": [
      " You won this game \n"
     ]
    }
   ],
   "source": [
    "import random\n",
    "    \n",
    "num = random.randint(1, 10)\n",
    "guess = None\n",
    "    \n",
    "while guess != num:\n",
    "    guess = int(input(\"Guess a number between 1 and 10: \"))\n",
    "    \n",
    "    if guess == num:\n",
    "        print(\" You won this game \")\n",
    "        break\n",
    "    else:\n",
    "        print(\"Sorry,try again\")"
   ]
  },
  {
   "cell_type": "code",
   "execution_count": 152,
   "id": "f20ca204-ea73-4eb4-bd1a-0cab9d701810",
   "metadata": {},
   "outputs": [
    {
     "name": "stdin",
     "output_type": "stream",
     "text": [
      "Guess a number between 1 and 10:  2\n"
     ]
    },
    {
     "name": "stdout",
     "output_type": "stream",
     "text": [
      "Sorry,try again\n"
     ]
    },
    {
     "name": "stdin",
     "output_type": "stream",
     "text": [
      "Guess a number between 1 and 10:  4\n"
     ]
    },
    {
     "name": "stdout",
     "output_type": "stream",
     "text": [
      "Sorry,try again\n"
     ]
    },
    {
     "name": "stdin",
     "output_type": "stream",
     "text": [
      "Guess a number between 1 and 10:  7\n"
     ]
    },
    {
     "name": "stdout",
     "output_type": "stream",
     "text": [
      "Sorry,try again\n"
     ]
    },
    {
     "name": "stdin",
     "output_type": "stream",
     "text": [
      "Guess a number between 1 and 10:  9\n"
     ]
    },
    {
     "name": "stdout",
     "output_type": "stream",
     "text": [
      "Sorry,try again\n"
     ]
    },
    {
     "name": "stdin",
     "output_type": "stream",
     "text": [
      "Guess a number between 1 and 10:  10\n"
     ]
    },
    {
     "name": "stdout",
     "output_type": "stream",
     "text": [
      "Sorry,try again\n"
     ]
    },
    {
     "name": "stdin",
     "output_type": "stream",
     "text": [
      "Guess a number between 1 and 10:  3\n"
     ]
    },
    {
     "name": "stdout",
     "output_type": "stream",
     "text": [
      "Sorry,try again\n"
     ]
    },
    {
     "name": "stdin",
     "output_type": "stream",
     "text": [
      "Guess a number between 1 and 10:  5\n"
     ]
    },
    {
     "name": "stdout",
     "output_type": "stream",
     "text": [
      "Sorry,try again\n"
     ]
    },
    {
     "name": "stdin",
     "output_type": "stream",
     "text": [
      "Guess a number between 1 and 10:  8\n"
     ]
    },
    {
     "name": "stdout",
     "output_type": "stream",
     "text": [
      "Sorry,try again\n"
     ]
    },
    {
     "name": "stdin",
     "output_type": "stream",
     "text": [
      "Guess a number between 1 and 10:  1\n"
     ]
    },
    {
     "name": "stdout",
     "output_type": "stream",
     "text": [
      "Sorry,try again\n"
     ]
    },
    {
     "name": "stdin",
     "output_type": "stream",
     "text": [
      "Guess a number between 1 and 10:  6\n"
     ]
    },
    {
     "name": "stdout",
     "output_type": "stream",
     "text": [
      " You won this game \n"
     ]
    }
   ],
   "source": [
    "import random\n",
    "    \n",
    "num = random.randint(1, 10)\n",
    "guess = None\n",
    "    \n",
    "while guess != num:\n",
    "    guess = int(input(\"Guess a number between 1 and 10: \"))\n",
    "    \n",
    "    \n",
    "    if guess == num:\n",
    "        print(\" You won this game \")\n",
    "        break\n",
    "    else:\n",
    "        print(\"Sorry,try again\")"
   ]
  },
  {
   "cell_type": "markdown",
   "id": "dea24d65-39b4-4afe-87d8-42e51ff8b64c",
   "metadata": {},
   "source": [
    "## 20. Write a program that finds the greatest common divisor (GCD) of two numbers.\n"
   ]
  },
  {
   "cell_type": "code",
   "execution_count": 159,
   "id": "ca67f6cc-6fb9-4d12-aac1-50177d0d73ae",
   "metadata": {},
   "outputs": [
    {
     "name": "stdin",
     "output_type": "stream",
     "text": [
      "Enter the value 18\n",
      "Enter the value 20\n"
     ]
    }
   ],
   "source": [
    "a=int(input(\"Enter the value\"))\n",
    "b=int(input(\"Enter the value\"))"
   ]
  },
  {
   "cell_type": "code",
   "execution_count": 165,
   "id": "1f52f6b9-a5c7-4343-b515-0eeb6c9c48c0",
   "metadata": {},
   "outputs": [
    {
     "name": "stdout",
     "output_type": "stream",
     "text": [
      "GCD: 2\n"
     ]
    }
   ],
   "source": [
    "while(b>0):\n",
    "    reminder= a % b\n",
    "    a=b\n",
    "    b=r\n",
    "\n",
    "GCD=a\n",
    "print (\"GCD:\", GCD)"
   ]
  },
  {
   "cell_type": "code",
   "execution_count": null,
   "id": "486ccd9d-41b9-4c2a-8126-ef626f5471be",
   "metadata": {},
   "outputs": [],
   "source": []
  }
 ],
 "metadata": {
  "kernelspec": {
   "display_name": "Python 3 (ipykernel)",
   "language": "python",
   "name": "python3"
  },
  "language_info": {
   "codemirror_mode": {
    "name": "ipython",
    "version": 3
   },
   "file_extension": ".py",
   "mimetype": "text/x-python",
   "name": "python",
   "nbconvert_exporter": "python",
   "pygments_lexer": "ipython3",
   "version": "3.12.4"
  }
 },
 "nbformat": 4,
 "nbformat_minor": 5
}
